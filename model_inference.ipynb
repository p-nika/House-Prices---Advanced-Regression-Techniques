{
 "cells": [
  {
   "cell_type": "code",
   "execution_count": 1,
   "id": "56edb59a",
   "metadata": {},
   "outputs": [],
   "source": [
    "import pandas as pd\n",
    "import pickle"
   ]
  },
  {
   "cell_type": "code",
   "execution_count": 2,
   "id": "55f0d831",
   "metadata": {},
   "outputs": [
    {
     "data": {
      "text/html": [
       "<pre style=\"white-space:pre;overflow-x:auto;line-height:normal;font-family:Menlo,'DejaVu Sans Mono',consolas,'Courier New',monospace\">Accessing as nipkha21\n",
       "</pre>\n"
      ],
      "text/plain": [
       "Accessing as nipkha21\n"
      ]
     },
     "metadata": {},
     "output_type": "display_data"
    },
    {
     "data": {
      "text/html": [
       "<pre style=\"white-space:pre;overflow-x:auto;line-height:normal;font-family:Menlo,'DejaVu Sans Mono',consolas,'Courier New',monospace\">Initialized MLflow to track repo <span style=\"color: #008000; text-decoration-color: #008000\">\"nipkha21/House-Prices---Advanced-Regression-Techniques\"</span>\n",
       "</pre>\n"
      ],
      "text/plain": [
       "Initialized MLflow to track repo \u001b[32m\"nipkha21/House-Prices---Advanced-Regression-Techniques\"\u001b[0m\n"
      ]
     },
     "metadata": {},
     "output_type": "display_data"
    },
    {
     "data": {
      "text/html": [
       "<pre style=\"white-space:pre;overflow-x:auto;line-height:normal;font-family:Menlo,'DejaVu Sans Mono',consolas,'Courier New',monospace\">Repository nipkha21/House-Prices---Advanced-Regression-Techniques initialized!\n",
       "</pre>\n"
      ],
      "text/plain": [
       "Repository nipkha21/House-Prices---Advanced-Regression-Techniques initialized!\n"
      ]
     },
     "metadata": {},
     "output_type": "display_data"
    }
   ],
   "source": [
    "import dagshub\n",
    "dagshub.init(repo_owner='nipkha21', repo_name='House-Prices---Advanced-Regression-Techniques', mlflow=True)"
   ]
  },
  {
   "cell_type": "code",
   "execution_count": 3,
   "id": "8629636f",
   "metadata": {},
   "outputs": [],
   "source": [
    "import mlflow\n",
    "\n",
    "logged_model = 'runs:/6900f6c56f934fd7a9ed73e0a68808de/lightgbm_model'\n",
    "lgb_model = mlflow.lightgbm.load_model(logged_model)\n",
    "\n",
    "importances = lgb_model.feature_importances_"
   ]
  },
  {
   "cell_type": "code",
   "execution_count": 4,
   "id": "952672ba",
   "metadata": {},
   "outputs": [],
   "source": [
    "test_data = pd.read_csv('test.csv')"
   ]
  },
  {
   "cell_type": "code",
   "execution_count": 5,
   "id": "a4191276",
   "metadata": {},
   "outputs": [],
   "source": [
    "from utils import preprocess_df"
   ]
  },
  {
   "cell_type": "code",
   "execution_count": 6,
   "id": "d816f1c5",
   "metadata": {},
   "outputs": [],
   "source": [
    "import pickle"
   ]
  },
  {
   "cell_type": "code",
   "execution_count": 7,
   "id": "f68e554a",
   "metadata": {},
   "outputs": [],
   "source": [
    "with open('train_columns.pkl', 'rb') as f:\n",
    "    train_columns = pickle.load(f)\n",
    "\n",
    "with open('cat_columns.pkl', 'rb') as f:\n",
    "    cat_columns = pickle.load(f)"
   ]
  },
  {
   "cell_type": "code",
   "execution_count": 8,
   "id": "32bfaa0f",
   "metadata": {},
   "outputs": [
    {
     "name": "stdout",
     "output_type": "stream",
     "text": [
      "[LightGBM] [Warning] lambda_l1 is set=0.6, reg_alpha=0.0 will be ignored. Current value: lambda_l1=0.6\n"
     ]
    }
   ],
   "source": [
    "test_data['SalePrice'] = lgb_model.predict(preprocess_df(test_data, train_columns, cat_columns))"
   ]
  },
  {
   "cell_type": "code",
   "execution_count": 9,
   "id": "14f573ea",
   "metadata": {},
   "outputs": [],
   "source": [
    "test_data[['Id','SalePrice']].to_csv('submission.csv', index=False)"
   ]
  },
  {
   "cell_type": "code",
   "execution_count": null,
   "id": "00d92fd8",
   "metadata": {},
   "outputs": [],
   "source": []
  },
  {
   "cell_type": "code",
   "execution_count": null,
   "id": "8b61256e",
   "metadata": {},
   "outputs": [],
   "source": []
  },
  {
   "cell_type": "code",
   "execution_count": null,
   "id": "e47b835e",
   "metadata": {},
   "outputs": [],
   "source": []
  },
  {
   "cell_type": "code",
   "execution_count": null,
   "id": "a43d0218",
   "metadata": {},
   "outputs": [],
   "source": []
  }
 ],
 "metadata": {
  "kernelspec": {
   "display_name": "some_env",
   "language": "python",
   "name": "python3"
  },
  "language_info": {
   "codemirror_mode": {
    "name": "ipython",
    "version": 3
   },
   "file_extension": ".py",
   "mimetype": "text/x-python",
   "name": "python",
   "nbconvert_exporter": "python",
   "pygments_lexer": "ipython3",
   "version": "3.11.4"
  }
 },
 "nbformat": 4,
 "nbformat_minor": 5
}
